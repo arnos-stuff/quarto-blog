{
 "cells": [
  {
   "cell_type": "code",
   "execution_count": 1,
   "id": "82faeb76-50d5-4d4a-ab08-058976c37202",
   "metadata": {
    "tags": []
   },
   "outputs": [
    {
     "name": "stderr",
     "output_type": "stream",
     "text": [
      "\u001b[32m\u001b[1m  Activating\u001b[22m\u001b[39m project at `C:\\Users\\arnov\\Documents\\code\\notebooks\\quarto\\data-blog`\n"
     ]
    }
   ],
   "source": [
    "using Pkg\n",
    "\n",
    "Pkg.activate(\n",
    "    \"./data-blog\\\\\"\n",
    "    )"
   ]
  },
  {
   "cell_type": "code",
   "execution_count": 9,
   "id": "0d041d1d-a201-4e47-94a9-f29805c4217e",
   "metadata": {
    "tags": []
   },
   "outputs": [
    {
     "name": "stderr",
     "output_type": "stream",
     "text": [
      "WARNING: using PGFPlotsX.Axis in module Main conflicts with an existing identifier.\n",
      "WARNING: using PGFPlotsX.GroupPlot in module Main conflicts with an existing identifier.\n"
     ]
    }
   ],
   "source": [
    "using Markdown\n",
    "using Graphs\n",
    "using LaTeXStrings\n",
    "using TikzGraphs\n",
    "using PGFPlots\n",
    "using PGFPlotsX"
   ]
  },
  {
   "cell_type": "code",
   "execution_count": 12,
   "id": "a1d0dd09-acd1-4357-8031-aba78fe63cce",
   "metadata": {
    "tags": []
   },
   "outputs": [
    {
     "data": {
      "text/plain": [
       "10-element Vector{Vector{Int64}}:\n",
       " [4, 5]\n",
       " [6, 7]\n",
       " [8, 9]\n",
       " []\n",
       " []\n",
       " []\n",
       " []\n",
       " []\n",
       " []\n",
       " [1, 2, 3]"
      ]
     },
     "execution_count": 12,
     "metadata": {},
     "output_type": "execute_result"
    }
   ],
   "source": [
    "g = DiGraph(10)\n",
    "add_edge!(g, 4, 1)\n",
    "add_edge!(g, 5, 1)\n",
    "add_edge!(g, 6, 2)\n",
    "add_edge!(g, 7, 2)\n",
    "add_edge!(g, 8, 3)\n",
    "add_edge!(g, 9, 3)\n",
    "add_edge!(g, 1, 10)\n",
    "add_edge!(g, 2, 10)\n",
    "add_edge!(g, 3, 10)\n",
    "\n",
    "nodeNames = [\n",
    "    [latexstring(\"z_$i\") for i in 1:3];\n",
    "    [latexstring(\"θ_$i\") for i in 1:3];\n",
    "    [latexstring(\"φ_$i\") for i in 1:3];\n",
    "    [latexstring(\"x\")]\n",
    "]"
   ]
  },
  {
   "cell_type": "code",
   "execution_count": null,
   "id": "c464e426-5536-4615-817f-16cdc1cef5f8",
   "metadata": {},
   "outputs": [],
   "source": [
    "function networkDraw(g, names)\n",
    "    \n",
    "Coordinates((x, y) for x in 0:"
   ]
  }
 ],
 "metadata": {
  "kernelspec": {
   "display_name": "Julia 1.8.5",
   "language": "julia",
   "name": "julia-1.8"
  },
  "language_info": {
   "file_extension": ".jl",
   "mimetype": "application/julia",
   "name": "julia",
   "version": "1.8.5"
  }
 },
 "nbformat": 4,
 "nbformat_minor": 5
}
