{
  "cells": [
    {
      "cell_type": "raw",
      "metadata": {},
      "source": [
        "---\n",
        "title: \"First attempt at modelling using Julia\"\n",
        "author: \"Arno V\"\n",
        "date: \"2023-02-04\"\n",
        "categories: [julia, code, analysis, economics]\n",
        "image: \"julialogo.png\"\n",
        "---"
      ],
      "id": "c2427951"
    },
    {
      "cell_type": "markdown",
      "metadata": {},
      "source": [
        "# A first attempt at modelling using Julia\n",
        "\n",
        "<p align=\"center\">\n",
        "  <img src=\"https://julialang.org/assets/infra/logo.svg\" />\n",
        "</p>\n",
        "\n",
        "✨ Economic data 📊 , Julia 🤗 and Jupyter🪐\n",
        "\n",
        "The setup : libs & data\n"
      ],
      "id": "f70fba72"
    },
    {
      "cell_type": "code",
      "metadata": {},
      "source": [
        "using Pkg\n",
        "Pkg.activate(\".\")\n",
        "using DataFrames, DataFramesMeta, BrowseTables, Parquet\n",
        "using Distributions, StatsPlots, Statistics\n",
        "using Plots\n",
        "using LaTeXStrings"
      ],
      "id": "622506b9",
      "execution_count": null,
      "outputs": []
    },
    {
      "cell_type": "markdown",
      "metadata": {},
      "source": [
        "<br>\n",
        "\n",
        "Importing the data\n"
      ],
      "id": "1557d0b1"
    },
    {
      "cell_type": "code",
      "metadata": {},
      "source": [
        "df = DataFrame(\n",
        "    read_parquet(\"C:\\\\Users\\\\arnov\\\\Documents\\\\code\\\\notebooks\\\\quarto\\\\econ\\\\data\\\\data-clean-full-latest.parquet\"))\n",
        "\n",
        "first(df, 10)"
      ],
      "id": "802a6e01",
      "execution_count": null,
      "outputs": []
    },
    {
      "cell_type": "markdown",
      "metadata": {},
      "source": [
        "<br>\n",
        "\n",
        "\n",
        "# What we aim to do\n",
        "\n",
        "Here we have two values, $Q(p)$ and $p$, where $p$ is a percentile and $Q$ the Quantile function.  \n",
        "\n",
        "You could conversely see it as $q$ and $F(q)$, where $q$ is a quantile and $F$ the CDF.\n",
        "\n",
        "We want to find a decent model for $F$. We'll try a few methods first:\n",
        "\n",
        "* The classic Q-Q plot eyeballing\n",
        "* The Kolmogorov-Smirnov test (based on the $L_\\infty$ norm $||F-\\hat{F}||_\\infty$)\n",
        "* The so-called Anderson-Darling test (based on the $L_2$ norm $||F-\\hat{F}||_2$)\n",
        "\n",
        "Let's first look at the data: the true model actually depends on $\\langle t, k, p \\rangle$ (time, country and percentile), but we'll ignore that for now.\n"
      ],
      "id": "9f24011f"
    },
    {
      "cell_type": "code",
      "metadata": {},
      "source": [
        "dfg = groupby(df, :rel_income)\n",
        "\n",
        "dfr = hcat(\n",
        "    combine(dfg,\n",
        "        :perc => ((p) -> quantile(p, 0.025)) => :perc_025,\n",
        "        :perc => ((p) -> quantile(p, 0.05)) => :perc_05,\n",
        "        :perc => ((p) -> quantile(p, 0.25)) => :perc_25,\n",
        "        :perc => ((p) -> quantile(p, 0.5)) => :perc_50,\n",
        "        :perc => ((p) -> quantile(p, 0.75)) => :perc_75,\n",
        "        :perc => ((p) -> quantile(p, 0.95)) => :perc_95,\n",
        "        :perc => ((p) -> quantile(p, 0.975)) => :perc_975,\n",
        "        ),\n",
        "    combine(dfg,\n",
        "        :perc => mean => :perc_mean,\n",
        "        :perc => std => :perc_std,\n",
        "        ),\n",
        "        makeunique=true\n",
        ")"
      ],
      "id": "f182e0e2",
      "execution_count": null,
      "outputs": []
    },
    {
      "cell_type": "markdown",
      "metadata": {},
      "source": [
        "<br>\n",
        "\n",
        "\n",
        "### Confidence intervals\n",
        "\n",
        "Let's estimate upper and lower confidence bounds for the CDF function $F$.\n"
      ],
      "id": "5792144e"
    },
    {
      "cell_type": "code",
      "metadata": {},
      "source": [
        "dfr = hcat(\n",
        "    dfr,\n",
        "    combine(dfr,\n",
        "        [:perc_mean, :perc_std] => ByRow.((m,s) -> m + 2 * s) => :perc_upper_std,\n",
        "        [:perc_mean, :perc_std] => ByRow.((m,s) -> m - 2 * s) => :perc_lower_std\n",
        "        ),\n",
        "    makeunique=true\n",
        ")\n",
        "dfr = select(dfr, Not(:rel_income_1))\n",
        "\n",
        "\n",
        "latexstring(raw\"\"\"\n",
        "\\mu(P) = \"\"\" * \"$(round(mean(df.perc), digits=2))\" * raw\"\"\"\\quad \\text{and} \\quad\n",
        "\\sigma(P) = \"\"\" * \"$(round(std(df.perc), digits=2))\" )"
      ],
      "id": "de0906eb",
      "execution_count": null,
      "outputs": []
    },
    {
      "cell_type": "markdown",
      "metadata": {},
      "source": [
        "<br>\n",
        "\n",
        "This means that on aggregate we have this mental picture of the typical quartile distribution:\n"
      ],
      "id": "df404f23"
    },
    {
      "cell_type": "code",
      "metadata": {},
      "source": [
        "mu = round(mean(df.perc), digits=2)\n",
        "\n",
        "sigma = round(std(df.perc), digits=2)\n",
        "\n",
        "plot(\n",
        "    Normal(\n",
        "        mu,\n",
        "        sigma\n",
        "        ),\n",
        "        fill=(0, .5, :pink),\n",
        "        linecolor=:purple,\n",
        "        label=\"\"\"Normal plot \\\\mu = $(mu), \\\\sigma = $(sigma)\"\"\",\n",
        "        size=(800, 600),\n",
        "        background_color=\"#7711d708\"\n",
        ")"
      ],
      "id": "6619c490",
      "execution_count": null,
      "outputs": []
    },
    {
      "cell_type": "markdown",
      "metadata": {},
      "source": [
        "But that aggregate picture is not very useful. Let's look at the distribution by relative income.\n"
      ],
      "id": "e5e1355d"
    },
    {
      "cell_type": "code",
      "metadata": {},
      "source": [
        "function linspace(start::Any, stop::Any, n::Int)\n",
        "    step = (stop - start) / (n - 1)\n",
        "    return start:step:stop\n",
        "end\n",
        "\n",
        "function diracPlot(x::Any, y::Any, label::Any = \"\")\n",
        "    plot!([x,0],[x,y],arrow=true,linewidth=2, label=label)\n",
        "end\n",
        "\n",
        "bins = linspace(minimum(df.rel_income), maximum(df.rel_income), 5)\n",
        "\n",
        "dfbin = combine(df,\n",
        "    :rel_income => ByRow.((x) -> bins[findfirst(bins .>= x)]) => :bin_rel_income,\n",
        "    :perc => identity => :perc\n",
        "    )\n",
        "\n",
        "dfgbin = combine(\n",
        "    groupby(dfbin, :bin_rel_income),\n",
        "    :perc => mean => :perc_mean,\n",
        "    :perc => std => :perc_std\n",
        "    )\n",
        "\n",
        "p = plot(\n",
        "    vline(\n",
        "        [mean(df.perc)],\n",
        "        label=\"Total Mean\",\n",
        "        linestyle=:dash,\n",
        "        linewidth=2,\n",
        "        ylims=(0, 2.5),\n",
        "        legend=:outertopright,\n",
        "        background_color=\"#7711d708\"\n",
        "        ),\n",
        ")\n",
        "for i in 1:size(dfgbin, 1)\n",
        "    sstd = dfgbin[i, :perc_std]\n",
        "    smean = dfgbin[i, :perc_mean]\n",
        "    bin_rel_inc = bins[i]\n",
        "    if isnan(sstd)\n",
        "        diracPlot(smean, 2, \"Group $(i) \\\\mu = $(round(smean, digits=2))\")\n",
        "        sstd = 0\n",
        "    else\n",
        "        vline!(\n",
        "        [smean],\n",
        "        label=\"\",\n",
        "        linewidth=0.5,\n",
        "        ylims=(0, 2.5),\n",
        "        )\n",
        "        \n",
        "    end\n",
        "    plot!(\n",
        "        Normal(\n",
        "            smean,\n",
        "            sstd\n",
        "            ),\n",
        "            fill=(0, .2),\n",
        "            label=\"Group $(i) Normal \\\\mu = $(round(smean, digits=2)), \\\\sigma = $(round(sstd, digits=2))\",\n",
        "            size=(800, 600),\n",
        "            background_color=\"#7711d708\"\n",
        "    )\n",
        "end\n",
        "\n",
        "@show p"
      ],
      "id": "7bcc758d",
      "execution_count": null,
      "outputs": []
    },
    {
      "cell_type": "markdown",
      "metadata": {},
      "source": [
        "<br>\n",
        "\n",
        "This is just us toying around with the data though, let us now plot the CDF function $F$ and the confidence bounds.  \n",
        "\n",
        "Those confidence bounds are not very realistic because we treat a variable that's bounded within $(0,1)$ as if it were normally distributed. But it's a good enough approximation for our purposes.\n"
      ],
      "id": "557f5c9a"
    },
    {
      "cell_type": "code",
      "metadata": {},
      "source": [
        "_dfr = dropmissing(sort(dfr, :rel_income))\n",
        "\n",
        "plot(\n",
        "    _dfr.rel_income,\n",
        "    _dfr.perc_mean,\n",
        "    ribbon=(_dfr.perc_lower_std, _dfr.perc_upper_std),\n",
        "    fillalpha=0.2,\n",
        "    fillcolor=:blue,\n",
        "    label=\"\",\n",
        "    xlabel=\"Relative income\",\n",
        "    ylabel=L\"Share of population (cdf $\\hat{F}$)\",\n",
        "    title=\"Share of population by relative income\",\n",
        "    legend=:bottomright,\n",
        "    size=(800, 600),\n",
        "    ylims=(0, 1.6),\n",
        "    xlims=(0, 28),\n",
        "    background_color=\"#7711d708\"\n",
        "    )\n",
        "plot!(\n",
        "    _dfr.rel_income,\n",
        "    [_dfr.perc_lower_std, _dfr.perc_upper_std],\n",
        "    xlims=(0, 28),\n",
        ")"
      ],
      "id": "ed733f2d",
      "execution_count": null,
      "outputs": []
    },
    {
      "cell_type": "markdown",
      "metadata": {},
      "source": [
        "<br>\n",
        "\n",
        "\n",
        "Due to marginalisation across two dimensions, we have a 1D distribution, which we can plot as a curve.\n",
        "\n",
        "But we can clearly see the uncertainty around that curve. Let's see the quantiles now 🧐\n"
      ],
      "id": "bb8f4ae8"
    },
    {
      "cell_type": "code",
      "metadata": {},
      "source": [
        "plot(\n",
        "    _dfr.rel_income,\n",
        "    [_dfr.perc_05, _dfr.perc_50, _dfr.perc_95],\n",
        "    ribbon=(_dfr.perc_lower_std, _dfr.perc_upper_std),\n",
        "    fillalpha=0.2,\n",
        "    fillcolor=:blue,\n",
        "    label=\"\",\n",
        "    xlabel=\"Relative income\",\n",
        "    ylabel=L\"Share of population (cdf $\\hat{F}$)\",\n",
        "    title=\"Share of population by relative income\",\n",
        "    legend=:bottomright,\n",
        "    size=(800, 600),\n",
        "    ylims=(0, 1.1),\n",
        "    xlims=(0, 28),\n",
        "    background_color=\"#7711d708\"\n",
        "    )"
      ],
      "id": "31073b8a",
      "execution_count": null,
      "outputs": []
    }
  ],
  "metadata": {
    "kernelspec": {
      "name": "julia-1.8",
      "language": "julia",
      "display_name": "Julia 1.8.5"
    }
  },
  "nbformat": 4,
  "nbformat_minor": 5
}